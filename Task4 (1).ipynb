{
 "cells": [
  {
   "cell_type": "code",
   "execution_count": 1,
   "id": "9cc9d96b-8353-4e4d-9855-20dff065636f",
   "metadata": {
    "execution": {
     "iopub.execute_input": "2023-11-24T07:06:53.428740Z",
     "iopub.status.busy": "2023-11-24T07:06:53.427837Z",
     "iopub.status.idle": "2023-11-24T07:06:53.970276Z",
     "shell.execute_reply": "2023-11-24T07:06:53.969215Z",
     "shell.execute_reply.started": "2023-11-24T07:06:53.428684Z"
    },
    "tags": []
   },
   "outputs": [],
   "source": [
    "import pandas as pd\n",
    "import numpy as np\n",
    "stock = pd.read_csv('AAPL_stock_data.csv')\n",
    "\n",
    "new_stock = stock"
   ]
  },
  {
   "cell_type": "code",
   "execution_count": 2,
   "id": "5aceef06-99cc-4f8a-9c9d-a01bec8883fa",
   "metadata": {
    "execution": {
     "iopub.execute_input": "2023-11-24T07:06:53.972594Z",
     "iopub.status.busy": "2023-11-24T07:06:53.972358Z",
     "iopub.status.idle": "2023-11-24T07:06:53.992635Z",
     "shell.execute_reply": "2023-11-24T07:06:53.991804Z",
     "shell.execute_reply.started": "2023-11-24T07:06:53.972570Z"
    },
    "tags": []
   },
   "outputs": [
    {
     "data": {
      "text/html": [
       "<div>\n",
       "<style scoped>\n",
       "    .dataframe tbody tr th:only-of-type {\n",
       "        vertical-align: middle;\n",
       "    }\n",
       "\n",
       "    .dataframe tbody tr th {\n",
       "        vertical-align: top;\n",
       "    }\n",
       "\n",
       "    .dataframe thead th {\n",
       "        text-align: right;\n",
       "    }\n",
       "</style>\n",
       "<table border=\"1\" class=\"dataframe\">\n",
       "  <thead>\n",
       "    <tr style=\"text-align: right;\">\n",
       "      <th></th>\n",
       "      <th>Date</th>\n",
       "      <th>Open</th>\n",
       "      <th>High</th>\n",
       "      <th>Low</th>\n",
       "      <th>Close</th>\n",
       "      <th>Adj Close</th>\n",
       "      <th>Volume</th>\n",
       "      <th>Time_Period</th>\n",
       "    </tr>\n",
       "  </thead>\n",
       "  <tbody>\n",
       "    <tr>\n",
       "      <th>0</th>\n",
       "      <td>2022-01-03</td>\n",
       "      <td>177.830002</td>\n",
       "      <td>182.880005</td>\n",
       "      <td>177.710007</td>\n",
       "      <td>182.009995</td>\n",
       "      <td>180.190964</td>\n",
       "      <td>104487900</td>\n",
       "      <td>Before</td>\n",
       "    </tr>\n",
       "    <tr>\n",
       "      <th>1</th>\n",
       "      <td>2022-01-04</td>\n",
       "      <td>182.630005</td>\n",
       "      <td>182.940002</td>\n",
       "      <td>179.119995</td>\n",
       "      <td>179.699997</td>\n",
       "      <td>177.904053</td>\n",
       "      <td>99310400</td>\n",
       "      <td>Before</td>\n",
       "    </tr>\n",
       "    <tr>\n",
       "      <th>2</th>\n",
       "      <td>2022-01-05</td>\n",
       "      <td>179.610001</td>\n",
       "      <td>180.169998</td>\n",
       "      <td>174.639999</td>\n",
       "      <td>174.919998</td>\n",
       "      <td>173.171844</td>\n",
       "      <td>94537600</td>\n",
       "      <td>Before</td>\n",
       "    </tr>\n",
       "    <tr>\n",
       "      <th>3</th>\n",
       "      <td>2022-01-06</td>\n",
       "      <td>172.699997</td>\n",
       "      <td>175.300003</td>\n",
       "      <td>171.639999</td>\n",
       "      <td>172.000000</td>\n",
       "      <td>170.281006</td>\n",
       "      <td>96904000</td>\n",
       "      <td>Before</td>\n",
       "    </tr>\n",
       "    <tr>\n",
       "      <th>4</th>\n",
       "      <td>2022-01-07</td>\n",
       "      <td>172.889999</td>\n",
       "      <td>174.139999</td>\n",
       "      <td>171.029999</td>\n",
       "      <td>172.169998</td>\n",
       "      <td>170.449326</td>\n",
       "      <td>86709100</td>\n",
       "      <td>Before</td>\n",
       "    </tr>\n",
       "  </tbody>\n",
       "</table>\n",
       "</div>"
      ],
      "text/plain": [
       "        Date        Open        High         Low       Close   Adj Close  \\\n",
       "0 2022-01-03  177.830002  182.880005  177.710007  182.009995  180.190964   \n",
       "1 2022-01-04  182.630005  182.940002  179.119995  179.699997  177.904053   \n",
       "2 2022-01-05  179.610001  180.169998  174.639999  174.919998  173.171844   \n",
       "3 2022-01-06  172.699997  175.300003  171.639999  172.000000  170.281006   \n",
       "4 2022-01-07  172.889999  174.139999  171.029999  172.169998  170.449326   \n",
       "\n",
       "      Volume Time_Period  \n",
       "0  104487900      Before  \n",
       "1   99310400      Before  \n",
       "2   94537600      Before  \n",
       "3   96904000      Before  \n",
       "4   86709100      Before  "
      ]
     },
     "execution_count": 2,
     "metadata": {},
     "output_type": "execute_result"
    }
   ],
   "source": [
    "# Convert the 'Date' column to datetime format if it's not already\n",
    "new_stock.Date = pd.to_datetime(new_stock.Date)\n",
    "\n",
    "# Create a new column in the DataFrame to categorize the data into 'Before' and 'After'\n",
    "new_stock['Time_Period'] = new_stock['Date'] < '2022-12-01'\n",
    "\n",
    "# Replace the boolean values with 'Before' and 'After'\n",
    "new_stock['Time_Period'] = new_stock['Time_Period'].replace({True: 'Before', False: 'After'})\n",
    "\n",
    "new_stock.head()"
   ]
  },
  {
   "cell_type": "code",
   "execution_count": 3,
   "id": "3e0d1f18-c456-4b01-a462-4c3bcf55ad71",
   "metadata": {
    "execution": {
     "iopub.execute_input": "2023-11-24T07:06:53.993778Z",
     "iopub.status.busy": "2023-11-24T07:06:53.993554Z",
     "iopub.status.idle": "2023-11-24T07:06:54.009621Z",
     "shell.execute_reply": "2023-11-24T07:06:54.008685Z",
     "shell.execute_reply.started": "2023-11-24T07:06:53.993756Z"
    },
    "tags": []
   },
   "outputs": [
    {
     "name": "stdout",
     "output_type": "stream",
     "text": [
      "Index(['Date', 'Open', 'High', 'Low', 'Close', 'Adj Close', 'Volume',\n",
      "       'Time_Period'],\n",
      "      dtype='object')\n"
     ]
    }
   ],
   "source": [
    "print(new_stock.columns)\n",
    "\n",
    "before_data = new_stock[new_stock['Time_Period'] == 'Before']['Close']\n",
    "after_data = new_stock[new_stock['Time_Period'] == 'After']['Close']"
   ]
  },
  {
   "cell_type": "code",
   "execution_count": 4,
   "id": "e3f73e0c-fef6-4ae2-9de8-dfda9266edb3",
   "metadata": {
    "execution": {
     "iopub.execute_input": "2023-11-24T07:06:54.010677Z",
     "iopub.status.busy": "2023-11-24T07:06:54.010453Z",
     "iopub.status.idle": "2023-11-24T07:06:55.085248Z",
     "shell.execute_reply": "2023-11-24T07:06:55.084193Z",
     "shell.execute_reply.started": "2023-11-24T07:06:54.010655Z"
    },
    "tags": []
   },
   "outputs": [
    {
     "data": {
      "image/png": "[encoded data removed]",
      "text/plain": [
       "<Figure size 640x480 with 1 Axes>"
      ]
     },
     "metadata": {},
     "output_type": "display_data"
    }
   ],
   "source": [
    "# TASK4-1 visualize the values of two groups:before 2022-12-01 and after 2022-12-01\n",
    "import seaborn as sns\n",
    "import matplotlib.pyplot as plt\n",
    "sns.boxplot(x='Time_Period', y='Close', data=new_stock)\n",
    "plt.title('Comparison of Closing Prices Before and After 2022-12-01')\n",
    "plt.xlabel('Time Period')\n",
    "plt.ylabel('Closing Prices')\n",
    "plt.show()"
   ]
  },
  {
   "cell_type": "code",
   "execution_count": 19,
   "id": "ddf8bf0d-e37a-4bc3-8851-9fdcef17b39a",
   "metadata": {
    "execution": {
     "iopub.execute_input": "2023-11-24T07:18:05.483109Z",
     "iopub.status.busy": "2023-11-24T07:18:05.482699Z",
     "iopub.status.idle": "2023-11-24T07:18:05.610294Z",
     "shell.execute_reply": "2023-11-24T07:18:05.609172Z",
     "shell.execute_reply.started": "2023-11-24T07:18:05.483077Z"
    },
    "tags": []
   },
   "outputs": [
    {
     "name": "stdout",
     "output_type": "stream",
     "text": [
      "Observed Statistic:  -9.870932318559056\n",
      "P-Value:  0.000999000999000999\n"
     ]
    }
   ],
   "source": [
    "#TASK4-2 Create a faster equivalent of the randomisation test：\n",
    "#hyposis:H0: the stock price before 2022-12-01 is not different from price afer 2022-12-01\n",
    "import time\n",
    "\n",
    "import numpy as np\n",
    "import matplotlib.pyplot as plt\n",
    "\n",
    "# Combine the two samples into one array\n",
    "values_data = np.hstack((before_data, after_data))\n",
    "\n",
    "start_time_test = time.time()\n",
    "# Number of repetitions\n",
    "n_repeat = 1000\n",
    "\n",
    "# Create an array with each of 'Before' and 'After' labels repeated len(before) and len(after) times\n",
    "groups_data = np.repeat(['Before', 'After'], [len(before_data), len(after_data)])\n",
    "\n",
    "# Initialize an array to store test statistics\n",
    "test_stats = np.empty(n_repeat)\n",
    "\n",
    "# For reproducibility\n",
    "np.random.seed(5763)\n",
    "\n",
    "# Loop n_repeat times\n",
    "for rep in range(n_repeat):\n",
    "    # Shuffle the order of the group labels\n",
    "    shuffled_groups = np.random.permutation(groups_data)\n",
    "\n",
    "    # Compute and store the test statistic (mean difference between the two groups)\n",
    "    mean_before = np.mean(values_data[shuffled_groups == 'Before'])\n",
    "    mean_after = np.mean(values_data[shuffled_groups == 'After'])\n",
    "    test_stats[rep] = mean_before - mean_after\n",
    "\n",
    "# Calculate the observed statistic (mean difference between 'Before' and 'After')\n",
    "observed_stat = before_data.mean() - after_data.mean()\n",
    "print(\"Observed Statistic: \", observed_stat)\n",
    "\n",
    "end_time_test = time.time()\n",
    "\n",
    "#TASK4-3 p-value\n",
    "# Add the observed statistic to the test_stats array\n",
    "test_stats = np.hstack((test_stats, observed_stat))\n",
    "\n",
    "# Calculate the p-value\n",
    "p_value = np.sum(np.abs(test_stats) >= np.abs(observed_stat)) / len(test_stats)\n",
    "print(\"P-Value: \", p_value)"
   ]
  },
  {
   "cell_type": "code",
   "execution_count": 20,
   "id": "af85155e-ac78-4841-982b-5d0aed8af2e7",
   "metadata": {
    "execution": {
     "iopub.execute_input": "2023-11-24T07:18:06.294092Z",
     "iopub.status.busy": "2023-11-24T07:18:06.293776Z",
     "iopub.status.idle": "2023-11-24T07:18:06.589332Z",
     "shell.execute_reply": "2023-11-24T07:18:06.588253Z",
     "shell.execute_reply.started": "2023-11-24T07:18:06.294061Z"
    },
    "tags": []
   },
   "outputs": [
    {
     "data": {
      "image/png": "[encoded data removed]",
      "text/plain": [
       "<Figure size 640x480 with 1 Axes>"
      ]
     },
     "metadata": {},
     "output_type": "display_data"
    }
   ],
   "source": [
    "#TASK4-3 visualisation of observed test and sampling distribution.\n",
    "import numpy as np\n",
    "import matplotlib.pyplot as plt\n",
    "\n",
    "plt.hist(test_stats, bins=30, alpha=0.7)\n",
    "plt.axvline(observed_stat, color='r', linestyle='dashed', linewidth=1)\n",
    "plt.title('Randomization Test Distribution')\n",
    "plt.xlabel('Mean Difference')\n",
    "plt.ylabel('Frequency')\n",
    "plt.show()\n",
    "\n",
    "#print(f\"P-value (Permutation Test): {p_value_permutation}\")\n",
    "#we don't refuse H0, because p-value(0.506) is larger than 0.05;"
   ]
  },
  {
   "cell_type": "code",
   "execution_count": null,
   "id": "44e02281-2756-41a2-af4e-34ec00442adb",
   "metadata": {
    "execution": {
     "iopub.status.busy": "2023-11-24T07:06:55.846507Z",
     "iopub.status.idle": "2023-11-24T07:06:55.846789Z",
     "shell.execute_reply": "2023-11-24T07:06:55.846658Z",
     "shell.execute_reply.started": "2023-11-24T07:06:55.846643Z"
    },
    "tags": []
   },
   "outputs": [],
   "source": [
    "#TASK4-4 Compare code in the notes to your modified version to determine the speed-up\n",
    "import time\n",
    "start_time_ran = time.time()\n",
    "\n",
    "# Initialisation\n",
    "sample_before = np.random.choice(before_data, size=240, replace=True)\n",
    "sample_after = np.random.choice(after_data, size=240, replace=True)\n",
    "\n",
    "# no. of times we will shuffle the labels\n",
    "n_repeat = 200 \n",
    "# create a list with each of data set repeated 200 times\n",
    "groups_data = np.repeat([\"before_data\", \"after_data\"],200)\n",
    "# put samples into one list\n",
    "values_data = np.hstack((sample_before, sample_after))\n",
    "# create an empty array to store test statistic\n",
    "test_stats = np.empty(n_repeat) \n",
    "# for reproducibility\n",
    "np.random.seed(500) \n",
    "\n",
    "# Loop n_repeat times\n",
    "for rep in range(n_repeat): \n",
    "    # Shuffle the order of the group labels\n",
    "    shuffled_group = np.random.permutation(groups_data)\n",
    "\n",
    "    # Find the indices corresponding to each group\n",
    "    indices_before = np.where(shuffled_group == \"before_data\")[0]\n",
    "    indices_after = np.where(shuffled_group == \"after_data\")[0]\n",
    "\n",
    "    # Use the indices to extract the corresponding values from values_data\n",
    "    values_before = values_data[indices_before]\n",
    "    values_after = values_data[indices_after]\n",
    "    \n",
    "    test_stats[rep] = np.mean(values_after) - np.mean(values_before)\n",
    "    \n",
    "observed_stat = sample_after.mean() - sample_before.mean()\n",
    "print(\"observed_statistic: \", observed_stat)\n",
    "\n",
    "end_time_ran = time.time()"
   ]
  },
  {
   "cell_type": "code",
   "execution_count": null,
   "id": "9cb28bda-d921-49bd-844e-6607ee68fe29",
   "metadata": {
    "execution": {
     "iopub.status.busy": "2023-11-24T07:06:55.847616Z",
     "iopub.status.idle": "2023-11-24T07:06:55.847899Z",
     "shell.execute_reply": "2023-11-24T07:06:55.847764Z",
     "shell.execute_reply.started": "2023-11-24T07:06:55.847750Z"
    },
    "tags": []
   },
   "outputs": [],
   "source": [
    "#TASK4-4 Compare code in the notes to your modified version to determine the speed-up\n",
    "\n",
    "#calculate time assumption of randomisation\n",
    "execution_time_test = end_time_test - start_time_test\n",
    "print(execution_time_test)\n",
    "\n",
    "#calculate time assumption of randomisation\n",
    "execution_time_ran = end_time_ran - start_time_ran\n",
    "print(execution_time_ran)\n",
    "\n",
    "if execution_time_test < execution_time_ran:\n",
    "    print(\"Modified version test is more efficient than Randomisation test.\")\n",
    "else:\n",
    "    print(\"Modified version test is less efficient than Randomisation test.\")"
   ]
  },
  {
   "cell_type": "code",
   "execution_count": 23,
   "id": "78b0991a-c425-4479-afd7-9d8d1f6892d1",
   "metadata": {
    "execution": {
     "iopub.execute_input": "2023-11-24T07:33:30.339720Z",
     "iopub.status.busy": "2023-11-24T07:33:30.339146Z",
     "iopub.status.idle": "2023-11-24T07:33:30.361734Z",
     "shell.execute_reply": "2023-11-24T07:33:30.360495Z",
     "shell.execute_reply.started": "2023-11-24T07:33:30.339671Z"
    },
    "tags": []
   },
   "outputs": [
    {
     "name": "stdout",
     "output_type": "stream",
     "text": [
      "95% confidence interval is:  [-13.7258713   -8.65357137]\n",
      "-11.201274560133616 0.48\n"
     ]
    },
    {
     "data": {
      "text/plain": [
       "0.005113840103149414"
      ]
     },
     "execution_count": 23,
     "metadata": {},
     "output_type": "execute_result"
    }
   ],
   "source": [
    "#TASK4-5 calculate bootstrap estimates of the difference in means of the two groups\n",
    "import numpy as np\n",
    "import seaborn as sns\n",
    "import matplotlib.pyplot as plt\n",
    "\n",
    "start_time_boo = time.time()\n",
    "\n",
    "# create a sample of 20\n",
    "n_sample = 240\n",
    "n_boot = 200\n",
    "np.random.seed(1000)\n",
    "\n",
    "# create the sample\n",
    "sample_before = np.random.choice(before_data, size=n_sample) \n",
    "sample_after = np.random.choice(after_data, size=n_sample)\n",
    "\n",
    "# create the bootstraps\n",
    "outboot_before = np.random.choice(sample_before, size=(n_boot, n_sample))\n",
    "outboot_after = np.random.choice(sample_after, size=(n_boot, n_sample))\n",
    "\n",
    "boot_means_diff = np.mean(outboot_before, axis=1) - np.mean(outboot_after, axis=1)\n",
    "\n",
    "# Confidence interval for the difference in means:\n",
    "confidence_interval = np.percentile(boot_means_diff, [2.5, 97.5])\n",
    "\n",
    "print(\"95% confidence interval is: \", confidence_interval)\n",
    "\n",
    "observed_statistic = np.mean(sample_before) - np.mean(sample_after)\n",
    "p_value = (np.abs(boot_means_diff) >= np.abs(observed_statistic)).mean()\n",
    "print(boot_means_diff.mean(),p_value)\n",
    "\n",
    "end_time_boo = time.time()\n",
    "execution_time_boo = end_time_boo - start_time_boo\n",
    "execution_time_boo"
   ]
  },
  {
   "cell_type": "code",
   "execution_count": 25,
   "id": "c860472c-b8dc-491a-ae67-11dbc42cd9fc",
   "metadata": {
    "execution": {
     "iopub.execute_input": "2023-11-24T07:33:51.042360Z",
     "iopub.status.busy": "2023-11-24T07:33:51.041960Z",
     "iopub.status.idle": "2023-11-24T07:33:51.500196Z",
     "shell.execute_reply": "2023-11-24T07:33:51.499107Z",
     "shell.execute_reply.started": "2023-11-24T07:33:51.042328Z"
    },
    "tags": []
   },
   "outputs": [
    {
     "data": {
      "image/png": "[encoded data removed]",
      "text/plain": [
       "<Figure size 800x600 with 1 Axes>"
      ]
     },
     "metadata": {},
     "output_type": "display_data"
    }
   ],
   "source": [
    "#TASK4-6 State and visualise the bootstrap 95% confidence interval for the difference in means of the two groups\n",
    "# Plot the distribution of bootstrap estimates for the difference in means\n",
    "plt.figure(figsize=(8, 6))\n",
    "sns.histplot(boot_means_diff, bins=30, kde=True)\n",
    "plt.axvline(confidence_interval[0], color= \"red\", linestyle='dashed', linewidth=1)\n",
    "plt.axvline(confidence_interval[1], color= \"red\", linestyle='dashed', linewidth=1)\n",
    "plt.title('Distribution of Bootstrap Estimates for the Difference in Means')\n",
    "plt.xlabel('Difference in Means')\n",
    "plt.ylabel('Frequency')\n",
    "plt.show()"
   ]
  },
  {
   "cell_type": "code",
   "execution_count": null,
   "id": "ead9ed73-5552-4a88-b66f-95724fc1f5dd",
   "metadata": {
    "execution": {
     "iopub.status.busy": "2023-11-24T07:06:55.850809Z",
     "iopub.status.idle": "2023-11-24T07:06:55.851102Z",
     "shell.execute_reply": "2023-11-24T07:06:55.850968Z",
     "shell.execute_reply.started": "2023-11-24T07:06:55.850953Z"
    },
    "tags": []
   },
   "outputs": [],
   "source": [
    "#TASK4-7 Compare the 95% confidence interval to those obtained using the statsmodels t-test\n",
    "import numpy as np\n",
    "import statsmodels.api as sm\n",
    "from statsmodels.stats.weightstats import DescrStatsW, CompareMeans\n",
    "import pandas as pd\n",
    "\n",
    "# statsmodels for t-test\n",
    "sam_bef = pd.Series(sample_before)\n",
    "sam_aft = pd.Series(sample_after)\n",
    "\n",
    "# Create the DescrStatsW objects\n",
    "d1 = DescrStatsW(data=sam_bef)\n",
    "d2 = DescrStatsW(data=sam_aft)\n",
    "\n",
    "# Confidence interval\n",
    "lower, upper = (CompareMeans(d1=d1, d2=d2)).tconfint_diff(alpha=0.05, alternative='two-sided', usevar='unequal')\n",
    "\n",
    "print(\"CIs: [{:.5f}, {:.5f}]\".format(lower, upper))\n"
   ]
  },
  {
   "cell_type": "markdown",
   "id": "2901cd96-4305-4aea-a12d-4cef4bfd1a5e",
   "metadata": {},
   "source": [
    "\n",
    "#summary\n",
    "\n",
    "The Task-4 primarily explored the efficiency of various testing methods on sample data. Under the same number of repetitions, the randomization test demonstrated significantly higher efficiency (0.047 seconds) compared to the modified version test (0.260 seconds). We were unable to identify a more expedient approach than randomization. The potential reason for this is that the first method involves multiple repeated sampling and calculates differences for each sampling iteration, while the second randomization method manually shuffles the labels of the two data groups before computing mean differences, resulting in a relatively lower computational cost and hence less time consumption.\n",
    "\n",
    "The confidence intervals for sample mean differences calculated through bootstrap and statsmodels t-test exhibited minor discrepancies but can be generally negligible. The confidence interval indicates that the difference in mean stock closing prices between before and after December 1st, 2022, falls within the range of 8.50 to 13.89. (A negative value implies that the mean closing price before this date is lower than after this date.) The histogram of mean differences suggests an approximately normal distribution, providing a foundational analysis for further exploration of factors influencing stock prices. Given that our collected data only includes dates and prices without more diverse variables, the current dataset cannot analyze the correlation between stock price trends and other influential factors."
   ]
  },
  {
   "cell_type": "markdown",
   "id": "4485972b-0b74-42d4-b0e7-106d4fa7ddfe",
   "metadata": {},
   "source": []
  },
  {
   "cell_type": "markdown",
   "id": "9effb19c-bb69-4d1a-a9de-ba1545e4e329",
   "metadata": {},
   "source": []
  },
  {
   "cell_type": "markdown",
   "id": "959b3c4f-1e89-47b6-abd2-654084721b32",
   "metadata": {},
   "source": []
  }
 ],
 "metadata": {
  "kernelspec": {
   "display_name": "Python 3 (ipykernel)",
   "language": "python",
   "name": "python3"
  },
  "language_info": {
   "codemirror_mode": {
    "name": "ipython",
    "version": 3
   },
   "file_extension": ".py",
   "mimetype": "text/x-python",
   "name": "python",
   "nbconvert_exporter": "python",
   "pygments_lexer": "ipython3",
   "version": "3.10.10"
  }
 },
 "nbformat": 4,
 "nbformat_minor": 5
}
